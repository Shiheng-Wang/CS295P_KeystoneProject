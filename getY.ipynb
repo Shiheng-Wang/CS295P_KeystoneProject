{
 "cells": [
  {
   "cell_type": "code",
   "execution_count": 326,
   "metadata": {},
   "outputs": [],
   "source": [
    "import pandas as pd\n",
    "import numpy as np"
   ]
  },
  {
   "cell_type": "code",
   "execution_count": 327,
   "metadata": {},
   "outputs": [],
   "source": [
    "# data = pd.read_csv('C:/Users/14481/OneDrive/桌面/openClose0110.txt', header=None)\n",
    "proj_path='C:/Users/14481/OneDrive/桌面/295 Project/'\n",
    "GSPC = pd.read_csv(proj_path+'^GSPC', header=None, delimiter=' ')"
   ]
  },
  {
   "cell_type": "code",
   "execution_count": 328,
   "metadata": {},
   "outputs": [
    {
     "data": {
      "text/html": [
       "<div>\n",
       "<style scoped>\n",
       "    .dataframe tbody tr th:only-of-type {\n",
       "        vertical-align: middle;\n",
       "    }\n",
       "\n",
       "    .dataframe tbody tr th {\n",
       "        vertical-align: top;\n",
       "    }\n",
       "\n",
       "    .dataframe thead th {\n",
       "        text-align: right;\n",
       "    }\n",
       "</style>\n",
       "<table border=\"1\" class=\"dataframe\">\n",
       "  <thead>\n",
       "    <tr style=\"text-align: right;\">\n",
       "      <th></th>\n",
       "      <th>0</th>\n",
       "      <th>1</th>\n",
       "      <th>2</th>\n",
       "    </tr>\n",
       "  </thead>\n",
       "  <tbody>\n",
       "    <tr>\n",
       "      <th>0</th>\n",
       "      <td>AA</td>\n",
       "      <td>31.170</td>\n",
       "      <td>32.27</td>\n",
       "    </tr>\n",
       "    <tr>\n",
       "      <th>1</th>\n",
       "      <td>AACE</td>\n",
       "      <td>8.150</td>\n",
       "      <td>9.35</td>\n",
       "    </tr>\n",
       "    <tr>\n",
       "      <th>2</th>\n",
       "      <td>AAE</td>\n",
       "      <td>23.790</td>\n",
       "      <td>23.75</td>\n",
       "    </tr>\n",
       "    <tr>\n",
       "      <th>3</th>\n",
       "      <td>AAII</td>\n",
       "      <td>16.990</td>\n",
       "      <td>19.99</td>\n",
       "    </tr>\n",
       "    <tr>\n",
       "      <th>4</th>\n",
       "      <td>AAON</td>\n",
       "      <td>20.250</td>\n",
       "      <td>16.90</td>\n",
       "    </tr>\n",
       "    <tr>\n",
       "      <th>5</th>\n",
       "      <td>AAPL</td>\n",
       "      <td>15.430</td>\n",
       "      <td>17.57</td>\n",
       "    </tr>\n",
       "    <tr>\n",
       "      <th>6</th>\n",
       "      <td>AAR</td>\n",
       "      <td>20.230</td>\n",
       "      <td>20.00</td>\n",
       "    </tr>\n",
       "    <tr>\n",
       "      <th>7</th>\n",
       "      <td>AAT</td>\n",
       "      <td>12.370</td>\n",
       "      <td>12.55</td>\n",
       "    </tr>\n",
       "    <tr>\n",
       "      <th>8</th>\n",
       "      <td>AATK</td>\n",
       "      <td>1.205</td>\n",
       "      <td>1.55</td>\n",
       "    </tr>\n",
       "    <tr>\n",
       "      <th>9</th>\n",
       "      <td>AAUK</td>\n",
       "      <td>11.800</td>\n",
       "      <td>12.92</td>\n",
       "    </tr>\n",
       "  </tbody>\n",
       "</table>\n",
       "</div>"
      ],
      "text/plain": [
       "      0       1      2\n",
       "0    AA  31.170  32.27\n",
       "1  AACE   8.150   9.35\n",
       "2   AAE  23.790  23.75\n",
       "3  AAII  16.990  19.99\n",
       "4  AAON  20.250  16.90\n",
       "5  AAPL  15.430  17.57\n",
       "6   AAR  20.230  20.00\n",
       "7   AAT  12.370  12.55\n",
       "8  AATK   1.205   1.55\n",
       "9  AAUK  11.800  12.92"
      ]
     },
     "execution_count": 328,
     "metadata": {},
     "output_type": "execute_result"
    }
   ],
   "source": [
    "data.head(10)"
   ]
  },
  {
   "cell_type": "code",
   "execution_count": 329,
   "metadata": {},
   "outputs": [
    {
     "data": {
      "text/html": [
       "<div>\n",
       "<style scoped>\n",
       "    .dataframe tbody tr th:only-of-type {\n",
       "        vertical-align: middle;\n",
       "    }\n",
       "\n",
       "    .dataframe tbody tr th {\n",
       "        vertical-align: top;\n",
       "    }\n",
       "\n",
       "    .dataframe thead th {\n",
       "        text-align: right;\n",
       "    }\n",
       "</style>\n",
       "<table border=\"1\" class=\"dataframe\">\n",
       "  <thead>\n",
       "    <tr style=\"text-align: right;\">\n",
       "      <th></th>\n",
       "      <th>0</th>\n",
       "      <th>1</th>\n",
       "      <th>2</th>\n",
       "      <th>3</th>\n",
       "      <th>4</th>\n",
       "      <th>5</th>\n",
       "      <th>6</th>\n",
       "    </tr>\n",
       "  </thead>\n",
       "  <tbody>\n",
       "    <tr>\n",
       "      <th>0</th>\n",
       "      <td>1950-01-03</td>\n",
       "      <td>16.66</td>\n",
       "      <td>16.66</td>\n",
       "      <td>16.66</td>\n",
       "      <td>16.66</td>\n",
       "      <td>1260000</td>\n",
       "      <td>16.66</td>\n",
       "    </tr>\n",
       "    <tr>\n",
       "      <th>1</th>\n",
       "      <td>1950-01-04</td>\n",
       "      <td>16.85</td>\n",
       "      <td>16.85</td>\n",
       "      <td>16.85</td>\n",
       "      <td>16.85</td>\n",
       "      <td>1890000</td>\n",
       "      <td>16.85</td>\n",
       "    </tr>\n",
       "    <tr>\n",
       "      <th>2</th>\n",
       "      <td>1950-01-05</td>\n",
       "      <td>16.93</td>\n",
       "      <td>16.93</td>\n",
       "      <td>16.93</td>\n",
       "      <td>16.93</td>\n",
       "      <td>2550000</td>\n",
       "      <td>16.93</td>\n",
       "    </tr>\n",
       "    <tr>\n",
       "      <th>3</th>\n",
       "      <td>1950-01-06</td>\n",
       "      <td>16.98</td>\n",
       "      <td>16.98</td>\n",
       "      <td>16.98</td>\n",
       "      <td>16.98</td>\n",
       "      <td>2010000</td>\n",
       "      <td>16.98</td>\n",
       "    </tr>\n",
       "    <tr>\n",
       "      <th>4</th>\n",
       "      <td>1950-01-09</td>\n",
       "      <td>17.08</td>\n",
       "      <td>17.08</td>\n",
       "      <td>17.08</td>\n",
       "      <td>17.08</td>\n",
       "      <td>2520000</td>\n",
       "      <td>17.08</td>\n",
       "    </tr>\n",
       "    <tr>\n",
       "      <th>5</th>\n",
       "      <td>1950-01-10</td>\n",
       "      <td>17.03</td>\n",
       "      <td>17.03</td>\n",
       "      <td>17.03</td>\n",
       "      <td>17.03</td>\n",
       "      <td>2160000</td>\n",
       "      <td>17.03</td>\n",
       "    </tr>\n",
       "    <tr>\n",
       "      <th>6</th>\n",
       "      <td>1950-01-11</td>\n",
       "      <td>17.09</td>\n",
       "      <td>17.09</td>\n",
       "      <td>17.09</td>\n",
       "      <td>17.09</td>\n",
       "      <td>2630000</td>\n",
       "      <td>17.09</td>\n",
       "    </tr>\n",
       "    <tr>\n",
       "      <th>7</th>\n",
       "      <td>1950-01-12</td>\n",
       "      <td>16.76</td>\n",
       "      <td>16.76</td>\n",
       "      <td>16.76</td>\n",
       "      <td>16.76</td>\n",
       "      <td>2970000</td>\n",
       "      <td>16.76</td>\n",
       "    </tr>\n",
       "    <tr>\n",
       "      <th>8</th>\n",
       "      <td>1950-01-13</td>\n",
       "      <td>16.67</td>\n",
       "      <td>16.67</td>\n",
       "      <td>16.67</td>\n",
       "      <td>16.67</td>\n",
       "      <td>3330000</td>\n",
       "      <td>16.67</td>\n",
       "    </tr>\n",
       "    <tr>\n",
       "      <th>9</th>\n",
       "      <td>1950-01-16</td>\n",
       "      <td>16.72</td>\n",
       "      <td>16.72</td>\n",
       "      <td>16.72</td>\n",
       "      <td>16.72</td>\n",
       "      <td>1460000</td>\n",
       "      <td>16.72</td>\n",
       "    </tr>\n",
       "  </tbody>\n",
       "</table>\n",
       "</div>"
      ],
      "text/plain": [
       "            0      1      2      3      4        5      6\n",
       "0  1950-01-03  16.66  16.66  16.66  16.66  1260000  16.66\n",
       "1  1950-01-04  16.85  16.85  16.85  16.85  1890000  16.85\n",
       "2  1950-01-05  16.93  16.93  16.93  16.93  2550000  16.93\n",
       "3  1950-01-06  16.98  16.98  16.98  16.98  2010000  16.98\n",
       "4  1950-01-09  17.08  17.08  17.08  17.08  2520000  17.08\n",
       "5  1950-01-10  17.03  17.03  17.03  17.03  2160000  17.03\n",
       "6  1950-01-11  17.09  17.09  17.09  17.09  2630000  17.09\n",
       "7  1950-01-12  16.76  16.76  16.76  16.76  2970000  16.76\n",
       "8  1950-01-13  16.67  16.67  16.67  16.67  3330000  16.67\n",
       "9  1950-01-16  16.72  16.72  16.72  16.72  1460000  16.72"
      ]
     },
     "execution_count": 329,
     "metadata": {},
     "output_type": "execute_result"
    }
   ],
   "source": [
    "GSPC.head(10)"
   ]
  },
  {
   "cell_type": "code",
   "execution_count": 330,
   "metadata": {},
   "outputs": [],
   "source": [
    "years = ['01','06','11']\n",
    "months = ['11','12']\n",
    "market_returns = {}\n",
    "for year in years:\n",
    "    for month in months:\n",
    "        prefix = '20'+year+'-'+month\n",
    "        start = GSPC[GSPC.iloc[:,0].str.startswith(prefix)].iloc[0,-3]\n",
    "        end = GSPC[GSPC.iloc[:,0].str.startswith(prefix)].iloc[-1,-3]\n",
    "        market_return = (end-start)/start\n",
    "#         print(market_return)\n",
    "        market_returns[prefix] = market_return"
   ]
  },
  {
   "cell_type": "code",
   "execution_count": 331,
   "metadata": {},
   "outputs": [
    {
     "data": {
      "text/plain": [
       "{'2001-11': 0.0510561756295546,\n",
       " '2001-12': 0.016089919461899138,\n",
       " '2006-11': 0.023994560648043343,\n",
       " '2006-12': 0.015457754294019459,\n",
       " '2011-11': 0.02354138621663334,\n",
       " '2011-12': 0.010461360458949994}"
      ]
     },
     "execution_count": 331,
     "metadata": {},
     "output_type": "execute_result"
    }
   ],
   "source": [
    "market_returns"
   ]
  },
  {
   "cell_type": "code",
   "execution_count": 332,
   "metadata": {},
   "outputs": [],
   "source": [
    "# data1 = pd.read_csv('C:/Users/14481/OneDrive/桌面/295 Project/openClose0110.txt', header=None)\n",
    "# list_comps = list(data1.iloc[:,0])\n",
    "# type(list_comps)\n",
    "# len(list_comps)"
   ]
  },
  {
   "cell_type": "code",
   "execution_count": 333,
   "metadata": {},
   "outputs": [],
   "source": [
    "data2 = pd.read_csv(proj_path+\"openClose0111.txt\".format(year, month), header=None)\n",
    "# list_comps = data2[data2.iloc[:,0].isin(list_comps)]\n",
    "# len(list_comps)\n",
    "# # data2.iloc[:,0].isin(['AA'])"
   ]
  },
  {
   "cell_type": "code",
   "execution_count": 335,
   "metadata": {},
   "outputs": [
    {
     "name": "stdout",
     "output_type": "stream",
     "text": [
      "01 - 11\n",
      "01 - 12\n",
      "06 - 11\n",
      "06 - 12\n",
      "11 - 11\n",
      "11 - 12\n"
     ]
    }
   ],
   "source": [
    "for year in years:\n",
    "    for idx, month in enumerate(months):\n",
    "#         data1 = pd.read_csv('C:/Users/14481/OneDrive/桌面/295 Project/openClose{}{}.txt'.format(year, month), header=None)\n",
    "        data2 = pd.read_csv(proj_path+\"openClose{}{}.txt\".format(year, month), header=None)\n",
    "#         list_comps = data2[data2.iloc[:,0].isin(list_comps)]\n",
    "#         open_price = data1[data1.iloc[:,0].isin(data2.iloc[:,0])].iloc[:,1]\n",
    "#         close_price = data2[data2.iloc[:,0].isin(data2.iloc[:,0])].iloc[:,1]\n",
    "        print(year,'-',month)\n",
    "        open_price = [float(i) for i in data2[data2.iloc[:,2]!=0].iloc[:,1].tolist()]\n",
    "        close_price = data2[data2.iloc[:,2]!=0].iloc[:,2].tolist()\n",
    "        companies = np.array(data2[data2.iloc[:,2]!=0].iloc[:,0].tolist())\n",
    "#         print(all(isinstance(i, float) for i in open_price))\n",
    "\n",
    "        stock_returns = [(b-a)/b for a,b in zip(open_price, close_price)]\n",
    "        Y_value = (stock_returns - market_returns['20{}-{}'.format(year,month)])*100\n",
    "#         print(stock_returns)\n",
    "#         print(Y_value)\n",
    "        Y_value = np.reshape(Y_value, (Y_value.shape[0],1))\n",
    "        companies = np.reshape(companies, (companies.shape[0],1))\n",
    "\n",
    "#         print(Y_value.shape, companies.shape)\n",
    "#         for x in zip(a, b):\n",
    "#             f.write(\"{},{}\\n\".format(x[0], x[1]))\n",
    "#         f.close()\n",
    "        result = np.concatenate((companies,Y_value), axis=1)\n",
    "        path = proj_path+\"Yvalue{}{}.csv\".format(year,month)\n",
    "        np.savetxt(path, result, delimiter=\",\",fmt='%s')"
   ]
  },
  {
   "cell_type": "code",
   "execution_count": 254,
   "metadata": {},
   "outputs": [
    {
     "name": "stdout",
     "output_type": "stream",
     "text": [
      "[ -1.6968788    7.72860704  -5.27403862 ... -12.42269073  -0.40298962\n",
      "   9.78799946]\n"
     ]
    }
   ],
   "source": [
    "# data2 = pd.read_csv(\"C:/Users/14481/OneDrive/桌面/295 Project/openClose0110.txt\", header=None)\n",
    "# open_price = data2[data2.iloc[:,2]!=0].iloc[:,1].tolist()\n",
    "# close_price = data2[data2.iloc[:,2]!=0].iloc[:,2].tolist()\n",
    "# # print(len(open_price),len(close_price))\n",
    "\n",
    "# stock_returns = [(b-a)/b for a,b in zip(open_price, close_price)]\n",
    "# # print(stock_returns)\n",
    "# Y_value = (stock_returns - market_returns['2001-11'])*100\n",
    "# print(Y_value)"
   ]
  },
  {
   "cell_type": "code",
   "execution_count": 94,
   "metadata": {},
   "outputs": [
    {
     "data": {
      "text/html": [
       "<div>\n",
       "<style scoped>\n",
       "    .dataframe tbody tr th:only-of-type {\n",
       "        vertical-align: middle;\n",
       "    }\n",
       "\n",
       "    .dataframe tbody tr th {\n",
       "        vertical-align: top;\n",
       "    }\n",
       "\n",
       "    .dataframe thead th {\n",
       "        text-align: right;\n",
       "    }\n",
       "</style>\n",
       "<table border=\"1\" class=\"dataframe\">\n",
       "  <thead>\n",
       "    <tr style=\"text-align: right;\">\n",
       "      <th></th>\n",
       "      <th>0</th>\n",
       "      <th>1</th>\n",
       "      <th>2</th>\n",
       "    </tr>\n",
       "  </thead>\n",
       "  <tbody>\n",
       "    <tr>\n",
       "      <th>0</th>\n",
       "      <td>AA</td>\n",
       "      <td>31.17</td>\n",
       "      <td>32.27</td>\n",
       "    </tr>\n",
       "  </tbody>\n",
       "</table>\n",
       "</div>"
      ],
      "text/plain": [
       "    0      1      2\n",
       "0  AA  31.17  32.27"
      ]
     },
     "execution_count": 94,
     "metadata": {},
     "output_type": "execute_result"
    }
   ],
   "source": [
    "data1[data1.iloc[:,0]==data2.iloc[1,0]]"
   ]
  },
  {
   "cell_type": "code",
   "execution_count": 149,
   "metadata": {},
   "outputs": [],
   "source": [
    "list_comps = data2[data2.iloc[:,0].isin(list_comps)]"
   ]
  },
  {
   "cell_type": "code",
   "execution_count": 170,
   "metadata": {},
   "outputs": [
    {
     "data": {
      "text/plain": [
       "0"
      ]
     },
     "execution_count": 170,
     "metadata": {},
     "output_type": "execute_result"
    }
   ],
   "source": [
    "len(list_comps)"
   ]
  },
  {
   "cell_type": "code",
   "execution_count": null,
   "metadata": {},
   "outputs": [],
   "source": []
  }
 ],
 "metadata": {
  "kernelspec": {
   "display_name": "Python 3",
   "language": "python",
   "name": "python3"
  },
  "language_info": {
   "codemirror_mode": {
    "name": "ipython",
    "version": 3
   },
   "file_extension": ".py",
   "mimetype": "text/x-python",
   "name": "python",
   "nbconvert_exporter": "python",
   "pygments_lexer": "ipython3",
   "version": "3.7.0"
  }
 },
 "nbformat": 4,
 "nbformat_minor": 2
}
